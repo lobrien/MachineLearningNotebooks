{
 "cells": [
  {
   "cell_type": "markdown",
   "metadata": {},
   "source": [
    "Copyright (c) Microsoft Corporation. All rights reserved.\n",
    "\n",
    "Licensed under the MIT License."
   ]
  },
  {
   "cell_type": "markdown",
   "metadata": {},
   "source": [
    "# Schedule Azure Machine Learning Pipelines\n",
    "\n",
    "In this tutorial, you will learn how to schedule Azure Machine Learning pipelines. The example does a simple data-preparation task every minute. Raw data are read from a CSV file, normalized, and output to another CSV file for downstream processing."
   ]
  },
  {
   "cell_type": "markdown",
   "metadata": {},
   "source": [
    "## Domain\n",
    "\n",
    "The fake domain of this tutorial relates to the popularity of colors. "
   ]
  },
  {
   "cell_type": "code",
   "execution_count": 186,
   "metadata": {},
   "outputs": [],
   "source": [
    "from enum import Enum, unique\n",
    "import numpy as np"
   ]
  },
  {
   "cell_type": "code",
   "execution_count": 187,
   "metadata": {},
   "outputs": [],
   "source": [
    "  @unique\n",
    "class Color(Enum) : \n",
    "    Red = 0 \n",
    "    Orange = 1 \n",
    "    Yellow = 2\n",
    "    Green = 3\n",
    "    Blue = 4\n",
    "    Indigo = 5\n",
    "    Violet = 6\n",
    "    \n",
    "    @classmethod\n",
    "    def randn_color(cls) : \n",
    "        v = np.random.randn()\n",
    "        c = next((c for c in Color if v < (float(c.value) - 2.5)), Color.Violet)\n",
    "        return c"
   ]
  },
  {
   "cell_type": "markdown",
   "metadata": {},
   "source": [
    "Verify that our method `randn_color()` produces a normally-distributed shape:"
   ]
  },
  {
   "cell_type": "code",
   "execution_count": 188,
   "metadata": {},
   "outputs": [],
   "source": [
    "cs = list(Color.randn_color().value for _ in range(1000))"
   ]
  },
  {
   "cell_type": "code",
   "execution_count": 189,
   "metadata": {},
   "outputs": [],
   "source": [
    "import matplotlib.pyplot as plt\n",
    "%matplotlib inline"
   ]
  },
  {
   "cell_type": "code",
   "execution_count": 190,
   "metadata": {},
   "outputs": [
    {
     "data": {
      "text/plain": [
       "(array([  9.,  74., 227., 379., 245.,  62.,   4.]),\n",
       " array([0.        , 0.85714286, 1.71428571, 2.57142857, 3.42857143,\n",
       "        4.28571429, 5.14285714, 6.        ]),\n",
       " <a list of 7 Patch objects>)"
      ]
     },
     "execution_count": 190,
     "metadata": {},
     "output_type": "execute_result"
    },
    {
     "data": {
      "image/png": "[encoded data removed]",
      "text/plain": [
       "<Figure size 432x288 with 1 Axes>"
      ]
     },
     "metadata": {
      "needs_background": "light"
     },
     "output_type": "display_data"
    }
   ],
   "source": [
    "plt.hist(cs,len(Color))"
   ]
  },
  {
   "cell_type": "code",
   "execution_count": 191,
   "metadata": {},
   "outputs": [],
   "source": [
    "from datetime import datetime,timedelta"
   ]
  },
  {
   "cell_type": "code",
   "execution_count": 192,
   "metadata": {},
   "outputs": [],
   "source": [
    "def generate_fake_data(minutes, mu, sigma) :\n",
    "    end_time = datetime.now()\n",
    "    start_time = end_time - timedelta(minutes=minutes)\n",
    "    # Generate a random amount of data\n",
    "    amount_of_fake_data = minutes * int(mu + sigma * np.random.randn())\n",
    "    # Generate at least 1 element\n",
    "    amount_of_fake_data = 1 if amount_of_fake_data < 1 else amount_of_fake_data\n",
    "    arrival_times = np.arange(start_time, end_time, timedelta(minutes = minutes / amount_of_fake_data)).astype(datetime)\n",
    "    color_votes = list(Color.randn_color().name for _ in range(amount_of_fake_data))\n",
    "    time_and_vote = zip(arrival_times, color_votes)\n",
    "    return time_and_vote"
   ]
  },
  {
   "cell_type": "markdown",
   "metadata": {},
   "source": [
    "`generate_fake_data()` creates a sequence of tuples. Each tuple has an arrival time and a \"vote\" for a particular color. The arrival times are arrive over the past `minutes`:"
   ]
  },
  {
   "cell_type": "code",
   "execution_count": 193,
   "metadata": {},
   "outputs": [
    {
     "data": {
      "text/plain": [
       "[(datetime.datetime(2019, 9, 30, 15, 15, 25, 324544), 'Green'),\n",
       " (datetime.datetime(2019, 9, 30, 15, 15, 35, 324544), 'Blue'),\n",
       " (datetime.datetime(2019, 9, 30, 15, 15, 45, 324544), 'Red'),\n",
       " (datetime.datetime(2019, 9, 30, 15, 15, 55, 324544), 'Green'),\n",
       " (datetime.datetime(2019, 9, 30, 15, 16, 5, 324544), 'Yellow'),\n",
       " (datetime.datetime(2019, 9, 30, 15, 16, 15, 324544), 'Orange')]"
      ]
     },
     "execution_count": 193,
     "metadata": {},
     "output_type": "execute_result"
    }
   ],
   "source": [
    "list(generate_fake_data(1, 5, 1))"
   ]
  },
  {
   "cell_type": "code",
   "execution_count": 194,
   "metadata": {},
   "outputs": [],
   "source": [
    "import os\n",
    "import csv"
   ]
  },
  {
   "cell_type": "code",
   "execution_count": 195,
   "metadata": {},
   "outputs": [],
   "source": [
    "def fake_data(storage_dir) : \n",
    "    input_data_file = 'unprocessed_data.csv'\n",
    "    input_path = os.path.join(storage_dir, input_data_file)\n",
    "    # If first time, generate a bit more data \n",
    "    minutes_back = 1 if os.path.exists(input_path) else 10 \n",
    "    data = generate_fake_data(minutes_back, 100, 50)\n",
    "    with open(input_path, mode='w+') as f : \n",
    "        writer = csv.writer(f)\n",
    "        writer.writerows(data)\n",
    "    "
   ]
  },
  {
   "cell_type": "markdown",
   "metadata": {},
   "source": [
    "`fake_data()` creates or appends to the file `unprocessed_data.csv` in `storage_dir`, adding the results of some amount of `generate_fake_data()`. This `unprocessed_data.csv` file stands in for the output of some external datasource (Web site, field data, etc.)\n",
    "\n",
    "```\n",
    "2019-09-30 14:10:00.673782,Green\n",
    "2019-09-30 14:10:01.805857,Yellow\n",
    "2019-09-30 14:10:02.937932,Indigo\n",
    "```"
   ]
  },
  {
   "cell_type": "markdown",
   "metadata": {},
   "source": [
    "## Data Processing"
   ]
  },
  {
   "cell_type": "code",
   "execution_count": 196,
   "metadata": {},
   "outputs": [],
   "source": [
    "def read_raw_data(storage_dir) : \n",
    "    input_data_file = 'unprocessed_data.csv'\n",
    "    input_path = os.path.join(storage_dir, input_data_file)\n",
    "    if os.path.exists(input_path) : \n",
    "        with open(input_path, mode='r') as f : \n",
    "            reader = csv.reader(f)\n",
    "            return list(reader)\n",
    "    else :\n",
    "        # If file doesn't exist, return empty list \n",
    "        return []"
   ]
  },
  {
   "cell_type": "code",
   "execution_count": 197,
   "metadata": {},
   "outputs": [
    {
     "data": {
      "text/plain": [
       "[['2019-09-30 14:09:38.032282', 'Green'],\n",
       " ['2019-09-30 14:09:39.164357', 'Orange'],\n",
       " ['2019-09-30 14:09:40.296432', 'Blue'],\n",
       " ['2019-09-30 14:09:41.428507', 'Green'],\n",
       " ['2019-09-30 14:09:42.560582', 'Yellow']]"
      ]
     },
     "execution_count": 197,
     "metadata": {},
     "output_type": "execute_result"
    }
   ],
   "source": [
    "raw_data = read_raw_data('.')[0:5]\n",
    "raw_data"
   ]
  },
  {
   "cell_type": "code",
   "execution_count": 198,
   "metadata": {},
   "outputs": [],
   "source": [
    "import dateutil"
   ]
  },
  {
   "cell_type": "code",
   "execution_count": 199,
   "metadata": {},
   "outputs": [
    {
     "data": {
      "text/plain": [
       "<Color.Green: 3>"
      ]
     },
     "execution_count": 199,
     "metadata": {},
     "output_type": "execute_result"
    }
   ],
   "source": [
    "Color['Green']"
   ]
  },
  {
   "cell_type": "code",
   "execution_count": 200,
   "metadata": {},
   "outputs": [],
   "source": [
    "from sklearn.preprocessing import normalize"
   ]
  },
  {
   "cell_type": "code",
   "execution_count": 201,
   "metadata": {},
   "outputs": [
    {
     "data": {
      "text/plain": [
       "array([[0.44721359, 0.48038446],\n",
       "       [0.4472136 , 0.16012815],\n",
       "       [0.4472136 , 0.64051262],\n",
       "       [0.4472136 , 0.48038446],\n",
       "       [0.4472136 , 0.32025631]])"
      ]
     },
     "execution_count": 201,
     "metadata": {},
     "output_type": "execute_result"
    }
   ],
   "source": [
    "# Please note: this is just a silly example of converting and normalizing, e.g., \"preprocessing stuff\"     \n",
    "def process_raw_data(raw_data) : \n",
    "    def convert(d) :\n",
    "        for datum in d : \n",
    "            dt = dateutil.parser.parse(datum[0])\n",
    "            ts = int(dt.timestamp())\n",
    "            c = Color[datum[1]].value\n",
    "            yield (ts, c)\n",
    "    processed_data = list(convert(raw_data))\n",
    "    normalized_data = normalize(processed_data, axis = 0)\n",
    "    return normalized_data\n",
    "\n",
    "process_raw_data(raw_data)"
   ]
  },
  {
   "cell_type": "code",
   "execution_count": 202,
   "metadata": {},
   "outputs": [],
   "source": [
    "def write_processed_data(storage_dir, processed_data) : \n",
    "    output_data_file = 'processed_data.csv'\n",
    "    output_path = os.path.join(storage_dir, output_data_file)\n",
    "\n",
    "    # Note: Clobbers existing processed data -- fine in this example\n",
    "    with open(output_path, mode='w') as f : \n",
    "        writer = csv.writer(f)\n",
    "        writer.writerows(processed_data)"
   ]
  },
  {
   "cell_type": "code",
   "execution_count": 232,
   "metadata": {},
   "outputs": [],
   "source": [
    "def main() : \n",
    "    storage_dir = '.'\n",
    "    # Write some fake data to 'unprocessed_data.csv' -- normally data would be written via some external process\n",
    "    fake_data(storage_dir)\n",
    "\n",
    "    print(\"Beginning periodic data processing...\")\n",
    "    raw_data = read_raw_data(storage_dir)\n",
    "    processed_data = process_raw_data(raw_data)\n",
    "    write_processed_data(storage_dir, processed_data)\n",
    "    print(f\"Wrote {len(processed_data)} records\")\n",
    "    print(\"...Periodic data processing ended.\")"
   ]
  },
  {
   "cell_type": "code",
   "execution_count": 233,
   "metadata": {},
   "outputs": [
    {
     "name": "stdout",
     "output_type": "stream",
     "text": [
      "Beginning periodic data processing...\n",
      "Wrote 107 records\n",
      "...Periodic data processing ended.\n"
     ]
    }
   ],
   "source": [
    "main()"
   ]
  },
  {
   "cell_type": "code",
   "execution_count": null,
   "metadata": {},
   "outputs": [],
   "source": []
  }
 ],
 "metadata": {
  "kernelspec": {
   "display_name": "Python 3",
   "language": "python",
   "name": "python3"
  },
  "language_info": {
   "codemirror_mode": {
    "name": "ipython",
    "version": 3
   },
   "file_extension": ".py",
   "mimetype": "text/x-python",
   "name": "python",
   "nbconvert_exporter": "python",
   "pygments_lexer": "ipython3",
   "version": "3.7.3"
  }
 },
 "nbformat": 4,
 "nbformat_minor": 2
}
